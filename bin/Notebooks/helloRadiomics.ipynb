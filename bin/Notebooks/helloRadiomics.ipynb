{
 "cells": [
  {
   "cell_type": "markdown",
   "metadata": {},
   "source": [
    "# Hello Radiomics example: using the feature extractor to calculate features"
   ]
  },
  {
   "cell_type": "markdown",
   "metadata": {},
   "source": [
    "This example shows how to use the radiomics package and the feature extractor.\n",
    "The feature extractor handles preprocessing, and then calls the needed featureclasses to calculate the features.\n",
    "It is also possible to directly instantiate the feature classes. However, this is not recommended for use outside debugging or development. For more information, see `helloFeatureClass`."
   ]
  },
  {
   "cell_type": "code",
   "execution_count": null,
   "metadata": {
    "collapsed": true
   },
   "outputs": [],
   "source": [
    "import os\n",
    "import logging\n",
    "from radiomics.featureextractor import RadiomicsFeaturesExtractor\n",
    "import radiomics"
   ]
  },
  {
   "cell_type": "markdown",
   "metadata": {},
   "source": [
    "## Setting up logging"
   ]
  },
  {
   "cell_type": "code",
   "execution_count": null,
   "metadata": {
    "collapsed": true
   },
   "outputs": [],
   "source": [
    "logger = logging.getLogger('radiomics')  # Parent logger for the radiomics package\n",
    "\n",
    "# Enable writing out the log using radiomics logger\n",
    "radiomics.debug()  # Switch on radiomics logging from level=DEBUG (default level=WARNING)\n",
    "# Alternative; set logging to a specific level\n",
    "# logger.setLevel(logging.INFO)\n",
    "\n",
    "# Prevent radiomics logger from printing out log entries with level < WARNING to the console\n",
    "logger.handlers[0].setLevel(logging.WARNING)  # This limits the log messages printed to stdErr to level warning or higher\n",
    "logger.propagate = False  # Do not pass log messages on to root logger\n",
    "\n",
    "# Write out all log entries to a file, overwrite previous log\n",
    "handler = logging.FileHandler(filename='testLog.txt', mode='w')\n",
    "formatter = logging.Formatter(\"%(levelname)s:%(name)s: %(message)s\")  # This determines how a log message should be formatted\n",
    "handler.setFormatter(formatter)\n",
    "logger.addHandler(handler)"
   ]
  },
  {
   "cell_type": "markdown",
   "metadata": {},
   "source": [
    "## Getting the testcase"
   ]
  },
  {
   "cell_type": "code",
   "execution_count": null,
   "metadata": {
    "collapsed": true
   },
   "outputs": [],
   "source": [
    "testCase = 'brain1'\n",
    "dataDir = os.path.dirname(os.path.abspath(__file__)) + os.path.sep + \"..\" + os.path.sep + \"data\"\n",
    "imageName = str(dataDir + os.path.sep + testCase +'_image.nrrd')\n",
    "maskName = str(dataDir + os.path.sep + testCase + '_label.nrrd')\n",
    "\n",
    "if not os.path.exists(imageName):\n",
    "  print 'Error: problem finding input image', imageName\n",
    "if not os.path.exists(maskName):\n",
    "  print 'Error: problem finding input labelmap', maskName"
   ]
  },
  {
   "cell_type": "markdown",
   "metadata": {},
   "source": [
    "## Initializing the feature extractor"
   ]
  },
  {
   "cell_type": "markdown",
   "metadata": {},
   "source": [
    "#### Extraction Settings"
   ]
  },
  {
   "cell_type": "code",
   "execution_count": null,
   "metadata": {
    "collapsed": true
   },
   "outputs": [],
   "source": [
    "kwargs = {}\n",
    "kwargs['binWidth'] = 25\n",
    "kwargs['resampledPixelSpacing'] = None\n",
    "# kwargs['resampledPixelSpacing'] = [3, 3, 3]  # This is an example for defining resampling (voxels with size 3x3x3mm)\n",
    "kwargs['interpolator'] = 'sitkBSpline'\n",
    "kwargs['verbose'] = True\n",
    "\n",
    "extractor = RadiomicsFeaturesExtractor(**kwargs)"
   ]
  },
  {
   "cell_type": "markdown",
   "metadata": {},
   "source": [
    "#### Input images: applying filters"
   ]
  },
  {
   "cell_type": "code",
   "execution_count": null,
   "metadata": {
    "collapsed": true
   },
   "outputs": [],
   "source": [
    "# By default, only 'original' (no filter applied) is enabled. Optionally enable some filters:\n",
    "\n",
    "# extractor.enableInputImageByName('wavelet')\n",
    "# extractor.enableInputImageByName('log', customArgs={'sigma':[3.0]})\n",
    "# extractor.enableInputImageByName('square')\n",
    "# extractor.enableInputImageByName('squareroot')\n",
    "# extractor.enableInputImageByName('exponential')\n",
    "# extractor.enableInputImageByName('logarithm')\n",
    "\n",
    "# Alternative; set filters in one operation \n",
    "# This updates current enabled input images, i.e. overwrites custom settings. \n",
    "# However, input images already enabled, but not passed in this call, are not disabled.\n",
    "\n",
    "# extractor.enableInputImages(wavelet={}, log={'sigma':[3.0]})\n",
    "\n",
    "print \"Enabled input images:\"\n",
    "for imageType in extractor.inputImages.keys():\n",
    "    print '\\t' + imageType"
   ]
  },
  {
   "cell_type": "markdown",
   "metadata": {},
   "source": [
    "#### Feature classes: setting which feature(classes) need to be calculated"
   ]
  },
  {
   "cell_type": "code",
   "execution_count": null,
   "metadata": {
    "collapsed": true
   },
   "outputs": [],
   "source": [
    "# Disable all classes\n",
    "extractor.disableAllFeatures()\n",
    "\n",
    "# Enable all features in firstorder\n",
    "extractor.enableFeatureClassByName('firstorder')\n",
    "\n",
    "# Alternative; only enable 'Mean' and 'Skewness' features in firstorder\n",
    "# extractor.enableFeaturesByName(firstorder=['Mean', 'Skewness'])"
   ]
  },
  {
   "cell_type": "markdown",
   "metadata": {},
   "source": [
    "## Getting the docstrings of the active features"
   ]
  },
  {
   "cell_type": "code",
   "execution_count": null,
   "metadata": {
    "collapsed": true
   },
   "outputs": [],
   "source": [
    "print \"Active features:\"\n",
    "for cls, features in extractor.enabledFeatures.iteritems():\n",
    "  if len(features) == 0:\n",
    "    features = extractor.getFeatureNames(cls)\n",
    "  for f in features:\n",
    "    print f\n",
    "    print eval('extractor.featureClasses[\"%s\"].get%sFeatureValue.__doc__' % (cls, f))"
   ]
  },
  {
   "cell_type": "markdown",
   "metadata": {},
   "source": [
    "## Calculating the values of the active features"
   ]
  },
  {
   "cell_type": "code",
   "execution_count": null,
   "metadata": {
    "collapsed": true
   },
   "outputs": [],
   "source": [
    "print \"Calculating features\"\n",
    "featureVector = extractor.execute(imageName, maskName)\n",
    "\n",
    "for featureName in featureVector.keys():\n",
    "  print \"Computed %s: %s\" % (featureName, featureVector[featureName])"
   ]
  }
 ],
 "metadata": {
  "kernelspec": {
   "display_name": "Python 2",
   "language": "python",
   "name": "python2"
  },
  "language_info": {
   "codemirror_mode": {
    "name": "ipython",
    "version": 2.0
   },
   "file_extension": ".py",
   "mimetype": "text/x-python",
   "name": "python",
   "nbconvert_exporter": "python",
   "pygments_lexer": "ipython2",
   "version": "2.7.11"
  }
 },
 "nbformat": 4,
 "nbformat_minor": 0
}