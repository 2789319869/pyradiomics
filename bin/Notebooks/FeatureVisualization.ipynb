{
 "cells": [
  {
   "cell_type": "markdown",
   "metadata": {
    "deletable": true,
    "editable": true
   },
   "source": [
    "# Feature visualization using multi-dimensional scaling\n",
    "\n",
    "In this example, we will download and process data provided by [Brigham and Women's Surgical Planning Lab](https://www.spl.harvard.edu/).  The data has kindly been made available by the SPL to support reproducible science.\n",
    "\n",
    "> Kaus M.R., Warfield S.K., Nabavi A., Black P.M., Jolesz F.A., Kikinis R. Automated Segmentation of Brain Tumors. SPL 2007 Dec http://www.na-mic.org/publications/item/view/1180\n",
    "\n",
    "> Michael Kaus, Simon K. Warfield, Arya Nabavi, Peter M. Black, Ferenc A. Jolesz, and Ron Kikinis. Automated Segmentation of MRI of Brain Tumors.\n",
    "Radiology. 2001 Feb;218(2):586-91. http://www.spl.harvard.edu/publications/item/view/169\n",
    "\n",
    "> Simon K. Warfield, Michael Kaus, Ferenc A. Jolesz, and Ron Kikinis. Adaptive, Template Moderated, Spatially Varying Statistical Classification. Med Image Anal. 2000 Mar;4(1):43-55. http://www.spl.harvard.edu/publications/item/view/209\n"
   ]
  },
  {
   "cell_type": "code",
   "execution_count": 1,
   "metadata": {
    "collapsed": false,
    "deletable": true,
    "editable": true
   },
   "outputs": [
    {
     "name": "stdout",
     "output_type": "stream",
     "text": [
      "file already downloaded\n"
     ]
    }
   ],
   "source": [
    "# Download the zip file if it does not exist\n",
    "import urllib, os, zipfile\n",
    "\n",
    "url = \"http://www.na-mic.org/publications/bitstream/download/5270\"\n",
    "filename = 'example_data/Tumorbase.zip'\n",
    "if not os.path.isfile(filename):\n",
    "    print \"retrieving\"\n",
    "    urllib.urlretrieve(url, filename)\n",
    "else:\n",
    "    print \"file already downloaded\"\n",
    "    \n",
    "extracted_path = 'example_data/tumorbase'\n",
    "if not os.path.isdir(extracted_path):\n",
    "    print \"unzipping\"\n",
    "    z = zipfile.ZipFile(filename)\n",
    "    z.extractall('example_data')\n",
    "    print \"done unzipping\"\n"
   ]
  },
  {
   "cell_type": "code",
   "execution_count": 2,
   "metadata": {
    "collapsed": false
   },
   "outputs": [],
   "source": [
    "# Import some libraries\n",
    "import SimpleITK as sitk\n",
    "import radiomics\n"
   ]
  },
  {
   "cell_type": "markdown",
   "metadata": {},
   "source": [
    "# Extract features\n",
    "\n",
    "Next we loop over all cases (`case_id` from 1 to 10), reading each image and label.  The label map contains a `6` at each voxel containing tumor.  The `radiomics` package expects `0` and `1`, so we need to use the `BinaryThreshold` filter to extract the right labels."
   ]
  },
  {
   "cell_type": "code",
   "execution_count": 3,
   "metadata": {
    "collapsed": false,
    "deletable": true,
    "editable": true
   },
   "outputs": [],
   "source": [
    "# Load up the segmentations, 1 to 10 and extract the features\n",
    "extractor = radiomics.featureextractor.RadiomicsFeaturesExtractor(\"Params.yaml\")\n",
    "\n",
    "# hang on to all our features\n",
    "features = {}\n",
    "\n",
    "for case_id in range(1,11):\n",
    "    path = 'example_data/tumorbase/AutomatedSegmentation/case{}/'.format(case_id)\n",
    "    image = sitk.ReadImage(path + \"grayscale.nrrd\")\n",
    "    label = sitk.ReadImage(path + \"segmented.nrrd\")\n",
    "    # Tumor is in label value 6, make a binary mask\n",
    "    label = sitk.BinaryThreshold(label, 6, 6)\n",
    "    features[case_id] = extractor.execute ( image, label )\n",
    "    \n",
    "\n",
    "# A list of the valid features, sorted\n",
    "feature_names = list(sorted(filter ( lambda k: k.startswith(\"original_\"), features[1] )))\n"
   ]
  },
  {
   "cell_type": "code",
   "execution_count": 4,
   "metadata": {
    "collapsed": false
   },
   "outputs": [],
   "source": [
    "# Make a numpy array of all the values\n",
    "import numpy as np\n",
    "\n",
    "samples = np.zeros((10,len(feature_names)))\n",
    "for case_id in range(1,11):\n",
    "    a = np.array([])\n",
    "    for feature_name in feature_names:\n",
    "        a = np.append(a, features[case_id][feature_name])\n",
    "    samples[case_id-1,:] = a\n",
    "    \n",
    "# May have NaNs\n",
    "samples = np.nan_to_num(samples)"
   ]
  },
  {
   "cell_type": "markdown",
   "metadata": {},
   "source": [
    "# Multidimensional scaling\n",
    "\n",
    "[Multidimensional scaling or MDS](https://en.wikipedia.org/wiki/Multidimensional_scaling) is as way to visualize very high dimensional data in a lower dimensional space.  In our case, the feature space is `len(feature_names)` (or 93) dimensional space.  To help us understand the data, we project into 2d space.  MDS preserves the relative distance between sample points during the projection, so two samples close together in 2d space would also be close together in the original 93-dimensional space (and *vice versa*).\n",
    "\n",
    "We us non-metric algorithm, because our data are highly non uniform in the scale of each feature."
   ]
  },
  {
   "cell_type": "code",
   "execution_count": 5,
   "metadata": {
    "collapsed": false
   },
   "outputs": [],
   "source": [
    "\n",
    "from sklearn import manifold\n",
    "from sklearn.metrics import euclidean_distances\n",
    "from sklearn.decomposition import PCA\n",
    "\n",
    "similarities = euclidean_distances(samples)\n",
    "\n",
    "\n",
    "seed = np.random.RandomState(seed=3)\n",
    "\n",
    "mds = manifold.MDS(n_components=2, max_iter=5000, eps=1e-12, random_state=seed,\n",
    "                   n_init=10,\n",
    "                   dissimilarity=\"precomputed\", n_jobs=1, metric=False)\n",
    "pos = mds.fit_transform(similarities)\n"
   ]
  },
  {
   "cell_type": "markdown",
   "metadata": {},
   "source": [
    "# Plot\n",
    "\n",
    "Here we use the results.  **NB:** there are two points in the \"green-ish\" colored circle in the center of the plot.\n",
    "\n",
    "Looking over our features, it's likely that meningioma and astrocytoma could be distinguisted by a classifier (based on our rather limited data set), but, in at least one case, glioma and astrocytoma features are relatively close together."
   ]
  },
  {
   "cell_type": "code",
   "execution_count": 6,
   "metadata": {
    "collapsed": false
   },
   "outputs": [
    {
     "name": "stderr",
     "output_type": "stream",
     "text": [
      "/opt/conda/envs/python2/lib/python2.7/site-packages/ipykernel/__main__.py:24: RuntimeWarning: divide by zero encountered in divide\n"
     ]
    },
    {
     "data": {
      "image/png": "[encoded data removed]",
      "text/plain": [
       "<matplotlib.figure.Figure at 0x7f4d1c12cf90>"
      ]
     },
     "metadata": {},
     "output_type": "display_data"
    }
   ],
   "source": [
    "# Plot\n",
    "\n",
    "from matplotlib import pyplot as plt\n",
    "from matplotlib.collections import LineCollection\n",
    "import matplotlib.cm as cm\n",
    "\n",
    "\n",
    "fig = plt.figure(1)\n",
    "ax = plt.axes([0., 0., 1., 1.])\n",
    "\n",
    "s = 100\n",
    "\n",
    "# Type of tumor\n",
    "meningioma = [0, 1, 2]\n",
    "glioma = [3,5,9]\n",
    "astrocytoma = [4, 6, 7, 8]\n",
    "\n",
    "plt.scatter(pos[meningioma, 0], pos[meningioma, 1], color='navy', alpha=1.0, s=s, lw=1, label='meningioma')\n",
    "plt.scatter(pos[glioma, 0], pos[glioma, 1], color='turquoise', alpha=1.0, s=s, lw=1, label='glioma')\n",
    "plt.scatter(pos[astrocytoma, 0], pos[astrocytoma, 1], color='darkorange', alpha=0.5, s=s, lw=1, label='astrocytoma')\n",
    "\n",
    "plt.legend(scatterpoints=1, loc=5, shadow=False)\n",
    "\n",
    "similarities = similarities.max() / similarities * 100\n",
    "similarities[np.isinf(similarities)] = 0\n",
    "plt.show()"
   ]
  }
 ],
 "metadata": {
  "kernelspec": {
   "display_name": "Python 2",
   "language": "python",
   "name": "python2"
  },
  "language_info": {
   "codemirror_mode": {
    "name": "ipython",
    "version": 2
   },
   "file_extension": ".py",
   "mimetype": "text/x-python",
   "name": "python",
   "nbconvert_exporter": "python",
   "pygments_lexer": "ipython2",
   "version": "2.7.12"
  }
 },
 "nbformat": 4,
 "nbformat_minor": 2
}
